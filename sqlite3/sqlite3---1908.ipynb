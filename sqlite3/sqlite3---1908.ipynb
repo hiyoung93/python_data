{
 "cells": [
  {
   "cell_type": "code",
   "execution_count": 6,
   "metadata": {},
   "outputs": [
    {
     "data": {
      "text/plain": [
       "'\\n특수이름 :memory: 제공해서 램에 db 생성가능\\n\\nconnection 얻으면 cursor객체 만들고 execute() 호출해서 SQL명령수행가능\\n'"
      ]
     },
     "execution_count": 6,
     "metadata": {},
     "output_type": "execute_result"
    }
   ],
   "source": [
    "# -------------------- 메모리 DB 접속하기(일회성)\n",
    "import sqlite3\n",
    "con = sqlite3.connect(':memory:')\n",
    "\n",
    "# -------------------- 데이터베이스 접속하기\n",
    "import sqlite3\n",
    "con = sqlite3.connect('./tect.db')\n",
    "'''\n",
    "특수이름 :memory: 제공해서 램에 db 생성가능\n",
    "\n",
    "connection 얻으면 cursor객체 만들고 execute() 호출해서 SQL명령수행가능\n",
    "'''"
   ]
  },
  {
   "cell_type": "code",
   "execution_count": 9,
   "metadata": {},
   "outputs": [
    {
     "data": {
      "text/plain": [
       "<sqlite3.Cursor at 0x4cb6340>"
      ]
     },
     "execution_count": 9,
     "metadata": {},
     "output_type": "execute_result"
    }
   ],
   "source": [
    "cur = con.cursor()\n",
    "cur.execute(\"CREATE TABLE PhoneBook(Name text, PhoneNum text);\")\n"
   ]
  },
  {
   "cell_type": "code",
   "execution_count": 10,
   "metadata": {},
   "outputs": [
    {
     "data": {
      "text/plain": [
       "<sqlite3.Cursor at 0x4cb6490>"
      ]
     },
     "execution_count": 10,
     "metadata": {},
     "output_type": "execute_result"
    }
   ],
   "source": [
    "\n",
    "# --------------------------------------------- 데이터 삽입\n",
    "''' 기본 strinf query 사용'''\n",
    "cur = con.cursor()\n",
    "cur.execute(\"INSERT INTO PhoneBook VALUES('Derick', '010-1234-4511');\")\n"
   ]
  },
  {
   "cell_type": "code",
   "execution_count": 13,
   "metadata": {},
   "outputs": [
    {
     "name": "stdout",
     "output_type": "stream",
     "text": [
      "('Derick', '010-1234-4511')\n",
      "('hiyoung', '010-1234-4511')\n",
      "('hiyoung', '010-1234-4511')\n",
      "('hiyoung', '010-1234-4511')\n",
      "('hiyoung', '010-1234-4511')\n",
      "('Tom', '010-1234-4511')\n",
      "('DSP', '010-1234-4511')\n",
      "('Derick', '010-1234-4511')\n"
     ]
    }
   ],
   "source": [
    "\n",
    "'''parameter: Tuple 사용'''\n",
    "name = 'hiyoung'\n",
    "phoneNumber = '010-1234-4511'\n",
    "cur = con.cursor()\n",
    "cur.execute('INSERT INTO PhoneBook VALUES(?, ?);',(name, phoneNumber))\n",
    "\n",
    "'''Named parameter: Dictionary 사용'''\n",
    "name = 'hiyoung'\n",
    "phoneNumber = '010-1234-4511'\n",
    "cur = con.cursor()\n",
    "cur.execute('INSERT INTO PhoneBook VALUES(:name, :phoneNumber);',{'name':name, 'phoneNumber':phoneNumber})\n",
    "'''list 사용'''\n",
    "dataList = (('Tom', '010-1234-4511'),('DSP','010-1234-4511'))\n",
    "cur = con.cursor()\n",
    "cur.executemany('INSERT INTO PhoneBook VALUES(?, ?);', dataList)\n",
    "\n",
    "\n",
    "# -------------------------------------------- 데이터 조회\n",
    "cur.execute('SELECT * FROM PhoneBook')\n",
    "for row in cur:\n",
    "    print(row)\n",
    "cur.execute('SELECT * FROM PhoneBook')\n",
    "print(cur.fetchone())\n"
   ]
  },
  {
   "cell_type": "code",
   "execution_count": 14,
   "metadata": {},
   "outputs": [
    {
     "name": "stdout",
     "output_type": "stream",
     "text": [
      "('Derick', '010-1234-4511')\n"
     ]
    },
    {
     "data": {
      "text/plain": [
       "[('hiyoung', '010-1234-4511'),\n",
       " ('hiyoung', '010-1234-4511'),\n",
       " ('Tom', '010-1234-4511'),\n",
       " ('DSP', '010-1234-4511')]"
      ]
     },
     "execution_count": 14,
     "metadata": {},
     "output_type": "execute_result"
    }
   ],
   "source": [
    "\n",
    "# -------------------- 단건 조회\n",
    "cur.execute('SELECT * FROM PhoneBook')\n",
    "print(cur.fetchone())\n",
    "# -------------------- 다건 조회\n",
    "cur.fetchmany(2)\n",
    "# -------------------- 모두 조회\n",
    "cur.fetchall()\n"
   ]
  },
  {
   "cell_type": "code",
   "execution_count": null,
   "metadata": {},
   "outputs": [],
   "source": []
  }
 ],
 "metadata": {
  "kernelspec": {
   "display_name": "Python 3",
   "language": "python",
   "name": "python3"
  },
  "language_info": {
   "codemirror_mode": {
    "name": "ipython",
    "version": 3
   },
   "file_extension": ".py",
   "mimetype": "text/x-python",
   "name": "python",
   "nbconvert_exporter": "python",
   "pygments_lexer": "ipython3",
   "version": "3.7.3"
  }
 },
 "nbformat": 4,
 "nbformat_minor": 2
}
