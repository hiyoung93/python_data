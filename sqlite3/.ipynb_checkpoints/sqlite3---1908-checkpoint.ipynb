{
 "cells": [
  {
   "cell_type": "code",
   "execution_count": 6,
   "metadata": {},
   "outputs": [
    {
     "data": {
      "text/plain": [
       "'\\n특수이름 :memory: 제공해서 램에 db 생성가능\\n\\nconnection 얻으면 cursor객체 만들고 execute() 호출해서 SQL명령수행가능\\n'"
      ]
     },
     "execution_count": 6,
     "metadata": {},
     "output_type": "execute_result"
    }
   ],
   "source": [
    "# -------------------- 메모리 DB 접속하기(일회성)\n",
    "import sqlite3\n",
    "con = sqlite3.connect(':memory:')\n",
    "\n",
    "# -------------------- 데이터베이스 접속하기\n",
    "import sqlite3\n",
    "con = sqlite3.connect('./tect.db')\n",
    "'''\n",
    "특수이름 :memory: 제공해서 램에 db 생성가능\n",
    "\n",
    "connection 얻으면 cursor객체 만들고 execute() 호출해서 SQL명령수행가능\n",
    "'''"
   ]
  },
  {
   "cell_type": "code",
   "execution_count": 9,
   "metadata": {},
   "outputs": [
    {
     "data": {
      "text/plain": [
       "<sqlite3.Cursor at 0x4cb6340>"
      ]
     },
     "execution_count": 9,
     "metadata": {},
     "output_type": "execute_result"
    }
   ],
   "source": [
    "cur = con.cursor()\n",
    "cur.execute(\"CREATE TABLE PhoneBook(Name text, PhoneNum text);\")\n"
   ]
  },
  {
   "cell_type": "code",
   "execution_count": 10,
   "metadata": {},
   "outputs": [
    {
     "data": {
      "text/plain": [
       "<sqlite3.Cursor at 0x4cb6490>"
      ]
     },
     "execution_count": 10,
     "metadata": {},
     "output_type": "execute_result"
    }
   ],
   "source": [
    "\n",
    "# --------------------------------------------- 데이터 삽입\n",
    "''' 기본 strinf query 사용'''\n",
    "cur = con.cursor()\n",
    "cur.execute(\"INSERT INTO PhoneBook VALUES('Derick', '010-1234-4511');\")\n"
   ]
  },
  {
   "cell_type": "code",
   "execution_count": 11,
   "metadata": {},
   "outputs": [
    {
     "ename": "ProgrammingError",
     "evalue": "Binding 1 has no name, but you supplied a dictionary (which has only names).",
     "output_type": "error",
     "traceback": [
      "\u001b[1;31m---------------------------------------------------------------------------\u001b[0m",
      "\u001b[1;31mProgrammingError\u001b[0m                          Traceback (most recent call last)",
      "\u001b[1;32m<ipython-input-11-a0ecd60d5375>\u001b[0m in \u001b[0;36m<module>\u001b[1;34m\u001b[0m\n\u001b[0;32m     10\u001b[0m \u001b[0mcur\u001b[0m \u001b[1;33m=\u001b[0m \u001b[0mcon\u001b[0m\u001b[1;33m.\u001b[0m\u001b[0mcursor\u001b[0m\u001b[1;33m(\u001b[0m\u001b[1;33m)\u001b[0m\u001b[1;33m\u001b[0m\u001b[1;33m\u001b[0m\u001b[0m\n\u001b[0;32m     11\u001b[0m cur.execute('INSERT INTO PhoneBook VALUES(?, ?);',\n\u001b[1;32m---> 12\u001b[1;33m             {'name':name, 'phoneNumber':phoneNumber})\n\u001b[0m\u001b[0;32m     13\u001b[0m \u001b[1;34m'''list 사용'''\u001b[0m\u001b[1;33m\u001b[0m\u001b[1;33m\u001b[0m\u001b[0m\n\u001b[0;32m     14\u001b[0m \u001b[0mdataList\u001b[0m \u001b[1;33m=\u001b[0m \u001b[1;33m(\u001b[0m\u001b[1;33m(\u001b[0m\u001b[1;34m'Tom'\u001b[0m\u001b[1;33m,\u001b[0m \u001b[1;34m'010-1234-4511'\u001b[0m\u001b[1;33m)\u001b[0m\u001b[1;33m,\u001b[0m\u001b[1;33m(\u001b[0m\u001b[1;34m'DSP'\u001b[0m\u001b[1;33m,\u001b[0m\u001b[1;34m'010-1234-4511'\u001b[0m\u001b[1;33m)\u001b[0m\u001b[1;33m)\u001b[0m\u001b[1;33m\u001b[0m\u001b[1;33m\u001b[0m\u001b[0m\n",
      "\u001b[1;31mProgrammingError\u001b[0m: Binding 1 has no name, but you supplied a dictionary (which has only names)."
     ]
    }
   ],
   "source": [
    "\n",
    "'''parameter: Tuple 사용'''\n",
    "name = 'hiyoung'\n",
    "phoneNumber = '010-1234-4511'\n",
    "cur = con.cursor()\n",
    "cur.execute('INSERT INTO PhoneBook VALUES(?, ?);',(name, phoneNumber))\n",
    "\n",
    "'''Named parameter: Dictionary 사용'''\n",
    "name = 'hiyoung'\n",
    "phoneNumber = '010-1234-4511'\n",
    "cur = con.cursor()\n",
    "cur.execute('INSERT INTO PhoneBook VALUES(?, ?);',{'name':name, 'phoneNumber':phoneNumber})\n",
    "'''list 사용'''\n",
    "dataList = (('Tom', '010-1234-4511'),('DSP','010-1234-4511'))\n",
    "cur = con.cursor()\n",
    "cur.executemany('INSERT INTO PhoneBook VALUES(?, ?);', dataList)\n",
    "\n",
    "\n",
    "# -------------------------------------------- 데이터 조회\n",
    "cur.execute('SELECT * FROM PhoneBook')\n",
    "for row in cur:\n",
    "    print(row)\n",
    "cur.execute('SELECT * FROM PhoneBook')\n",
    "print(cur.fetchone())\n"
   ]
  },
  {
   "cell_type": "code",
   "execution_count": null,
   "metadata": {},
   "outputs": [],
   "source": []
  }
 ],
 "metadata": {
  "kernelspec": {
   "display_name": "Python 3",
   "language": "python",
   "name": "python3"
  },
  "language_info": {
   "codemirror_mode": {
    "name": "ipython",
    "version": 3
   },
   "file_extension": ".py",
   "mimetype": "text/x-python",
   "name": "python",
   "nbconvert_exporter": "python",
   "pygments_lexer": "ipython3",
   "version": "3.7.3"
  }
 },
 "nbformat": 4,
 "nbformat_minor": 2
}
