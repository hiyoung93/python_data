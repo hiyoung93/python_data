{
 "cells": [
  {
   "cell_type": "code",
   "execution_count": 9,
   "metadata": {},
   "outputs": [
    {
     "name": "stdout",
     "output_type": "stream",
     "text": [
      "<_io.TextIOWrapper name='파일.txt' mode='r' encoding='utf-8'>\n"
     ]
    }
   ],
   "source": [
    "f = open('파일.txt',encoding = 'utf-8')\n",
    "print(f)"
   ]
  },
  {
   "cell_type": "code",
   "execution_count": 8,
   "metadata": {},
   "outputs": [
    {
     "ename": "UnicodeDecodeError",
     "evalue": "'utf-8' codec can't decode byte 0xb0 in position 15: invalid start byte",
     "output_type": "error",
     "traceback": [
      "\u001b[1;31m---------------------------------------------------------------------------\u001b[0m",
      "\u001b[1;31mUnicodeDecodeError\u001b[0m                        Traceback (most recent call last)",
      "\u001b[1;32m<ipython-input-8-96500d34239b>\u001b[0m in \u001b[0;36m<module>\u001b[1;34m\u001b[0m\n\u001b[1;32m----> 1\u001b[1;33m \u001b[0mlines\u001b[0m \u001b[1;33m=\u001b[0m \u001b[0mf\u001b[0m\u001b[1;33m.\u001b[0m\u001b[0mreadlines\u001b[0m\u001b[1;33m(\u001b[0m\u001b[1;33m)\u001b[0m\u001b[1;33m\u001b[0m\u001b[1;33m\u001b[0m\u001b[0m\n\u001b[0m\u001b[0;32m      2\u001b[0m \u001b[1;32mfor\u001b[0m \u001b[0mline\u001b[0m \u001b[1;32min\u001b[0m \u001b[0mlines\u001b[0m \u001b[1;33m:\u001b[0m\u001b[1;33m\u001b[0m\u001b[1;33m\u001b[0m\u001b[0m\n\u001b[0;32m      3\u001b[0m     \u001b[0mprint\u001b[0m\u001b[1;33m(\u001b[0m\u001b[0mline\u001b[0m\u001b[1;33m)\u001b[0m\u001b[1;33m\u001b[0m\u001b[1;33m\u001b[0m\u001b[0m\n\u001b[0;32m      4\u001b[0m \u001b[0mf\u001b[0m\u001b[1;33m.\u001b[0m\u001b[0mclose\u001b[0m\u001b[1;33m(\u001b[0m\u001b[1;33m)\u001b[0m\u001b[1;33m\u001b[0m\u001b[1;33m\u001b[0m\u001b[0m\n",
      "\u001b[1;32m~\\Anaconda3\\lib\\codecs.py\u001b[0m in \u001b[0;36mdecode\u001b[1;34m(self, input, final)\u001b[0m\n\u001b[0;32m    320\u001b[0m         \u001b[1;31m# decode input (taking the buffer into account)\u001b[0m\u001b[1;33m\u001b[0m\u001b[1;33m\u001b[0m\u001b[1;33m\u001b[0m\u001b[0m\n\u001b[0;32m    321\u001b[0m         \u001b[0mdata\u001b[0m \u001b[1;33m=\u001b[0m \u001b[0mself\u001b[0m\u001b[1;33m.\u001b[0m\u001b[0mbuffer\u001b[0m \u001b[1;33m+\u001b[0m \u001b[0minput\u001b[0m\u001b[1;33m\u001b[0m\u001b[1;33m\u001b[0m\u001b[0m\n\u001b[1;32m--> 322\u001b[1;33m         \u001b[1;33m(\u001b[0m\u001b[0mresult\u001b[0m\u001b[1;33m,\u001b[0m \u001b[0mconsumed\u001b[0m\u001b[1;33m)\u001b[0m \u001b[1;33m=\u001b[0m \u001b[0mself\u001b[0m\u001b[1;33m.\u001b[0m\u001b[0m_buffer_decode\u001b[0m\u001b[1;33m(\u001b[0m\u001b[0mdata\u001b[0m\u001b[1;33m,\u001b[0m \u001b[0mself\u001b[0m\u001b[1;33m.\u001b[0m\u001b[0merrors\u001b[0m\u001b[1;33m,\u001b[0m \u001b[0mfinal\u001b[0m\u001b[1;33m)\u001b[0m\u001b[1;33m\u001b[0m\u001b[1;33m\u001b[0m\u001b[0m\n\u001b[0m\u001b[0;32m    323\u001b[0m         \u001b[1;31m# keep undecoded input until the next call\u001b[0m\u001b[1;33m\u001b[0m\u001b[1;33m\u001b[0m\u001b[1;33m\u001b[0m\u001b[0m\n\u001b[0;32m    324\u001b[0m         \u001b[0mself\u001b[0m\u001b[1;33m.\u001b[0m\u001b[0mbuffer\u001b[0m \u001b[1;33m=\u001b[0m \u001b[0mdata\u001b[0m\u001b[1;33m[\u001b[0m\u001b[0mconsumed\u001b[0m\u001b[1;33m:\u001b[0m\u001b[1;33m]\u001b[0m\u001b[1;33m\u001b[0m\u001b[1;33m\u001b[0m\u001b[0m\n",
      "\u001b[1;31mUnicodeDecodeError\u001b[0m: 'utf-8' codec can't decode byte 0xb0 in position 15: invalid start byte"
     ]
    }
   ],
   "source": [
    "lines = f.readlines()\n",
    "for line in lines :\n",
    "    print(line)\n",
    "f.close() "
   ]
  },
  {
   "cell_type": "code",
   "execution_count": 10,
   "metadata": {},
   "outputs": [
    {
     "name": "stdout",
     "output_type": "stream",
     "text": [
      "clothes\n",
      "handmade\n",
      "검색'vintage\n",
      "검색'creepy\n",
      "jointed\n",
      "검색'realistic\n",
      "american\n",
      "repaint\n",
      "검색'antique\n",
      "검색'monster\n",
      "house\n",
      "검색'porcelain\n",
      "검색'crochet\n",
      "accessories\n",
      "검색'paper\n",
      "검색'disney\n",
      "검색'reborn\n",
      "dress\n",
      "furniture\n",
      "검색'felt\n",
      "eyes\n",
      "검색'barbie\n",
      "pattern\n",
      "검색'blythe\n",
      "검색'cute\n",
      "makeup\n",
      "aesthetic\n",
      "검색'beautiful\n",
      "검색'bear\n",
      "costume\n",
      "anime\n",
      "face\n",
      "wallpaper\n",
      "검색'pretty\n",
      "japonesas\n",
      "realistas\n",
      "porcelana\n",
      "tela\n",
      "cake\n",
      "home\n",
      "decor\n",
      "projects\n",
      "beauty\n",
      "furniture\n",
      "jewelry\n",
      "ideas\n",
      "candles\n",
      "makeup\n",
      "apartment\n",
      "kitchen\n",
      "bracelets\n",
      "desk\n",
      "garden\n",
      "slime\n",
      "face\n",
      "wedding\n",
      "headboard\n",
      "tree\n",
      "dream\n",
      "catcher\n",
      "weihnachtsgeschenke\n",
      "shelves\n",
      "bookshelf\n",
      "storage\n",
      "supplies\n",
      "house\n",
      "when\n",
      "bored\n",
      "clothes\n",
      "teens\n",
      "decoracion\n",
      "dekoration\n",
      "basteln\n",
      "geschenke\n",
      "easy\n",
      "videos\n",
      "bedroom\n",
      "wohnen\n",
      "manualidades\n",
      "decorations\n",
      "ideen\n",
      "cuadernos\n",
      "gegen\n",
      "langeweile\n",
      "facile\n",
      "decorao\n",
      "mbel\n",
      "maquillaje\n",
      "muebles\n",
      "paper\n",
      "interieur\n",
      "knutselen\n",
      "table\n",
      "presents\n"
     ]
    }
   ],
   "source": [
    "import string\n",
    "\n",
    "with open('파일.txt', 'r') as file:\n",
    "    words = file.readline().split()\n",
    "    for word in words:\n",
    "        if word.find('e') >= 0:\n",
    "            word = word.strip(string.punctuation)\n",
    "            print(word)"
   ]
  },
  {
   "cell_type": "code",
   "execution_count": null,
   "metadata": {},
   "outputs": [],
   "source": []
  }
 ],
 "metadata": {
  "kernelspec": {
   "display_name": "Python 3",
   "language": "python",
   "name": "python3"
  },
  "language_info": {
   "codemirror_mode": {
    "name": "ipython",
    "version": 3
   },
   "file_extension": ".py",
   "mimetype": "text/x-python",
   "name": "python",
   "nbconvert_exporter": "python",
   "pygments_lexer": "ipython3",
   "version": "3.7.3"
  }
 },
 "nbformat": 4,
 "nbformat_minor": 2
}
