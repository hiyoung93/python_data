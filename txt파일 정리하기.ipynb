{
 "cells": [
  {
   "cell_type": "code",
   "execution_count": 29,
   "metadata": {},
   "outputs": [
    {
     "name": "stdout",
     "output_type": "stream",
     "text": [
      "<_io.TextIOWrapper name='파일.txt' mode='r' encoding='utf-8'>\n"
     ]
    }
   ],
   "source": [
    "f = open('파일.txt',encoding = 'utf-8')\n",
    "print(f)"
   ]
  },
  {
   "cell_type": "code",
   "execution_count": 30,
   "metadata": {},
   "outputs": [
    {
     "name": "stdout",
     "output_type": "stream",
     "text": [
      "﻿'diy home decor' 검색'diy projects' 검색'diy crafts' 검색'diy tumblr' 검색'diy beauty' 검색'diy organization' 검색'diy furniture' 검색'diy jewelry' 검색'diy ideas' 검색'diy candles' 검색'diy makeup' 검색'diy apartment' 검색'diy kitchen' 검색'diy bracelets' 검색'diy desk' 검색'diy christmas' 검색'diy garden' 검색'diy outdoor' 검색'diy fashion' 검색'diy bath bombs' 검색'diy slime' 검색'diy soap' 검색'diy face mask' 검색'diy wedding' 검색'diy headboard' 검색'dollar tree diy' 검색'diy dog' 검색'diy dream catcher' 검색'diy bathroom' 검색'diy weihnachtsgeschenke' 검색'diy baby' 검색'diy shelves' 검색'diy bookshelf' 검색'diy pillows' 검색'diy storage' 검색'diy food' 검색'diy school supplies' 검색'diy house' 검색'diy to do when bored' 검색'diy gifts' 검색'diy clothes' 검색'diy for teens' 검색'diy art' 검색'diy decoracion' 검색'diy dekoration' 검색'diy basteln' 검색'diy geschenke' 검색'diy easy' 검색'diy videos' 검색'diy bedroom' 검색'diy wohnen' 검색'diy manualidades' 검색'diy ropa' 검색'diy decorations' 검색'diy ideen' 검색'diy dco' 검색'diy cuadernos' 검색'diy 100' 검색'diy gegen langeweile' 검색'diy room' 검색'diy facile' 검색'diy kids' 검색'diy decorao' 검색'diy mbel' 검색'diy cuarto' 검색'diy maquillaje' 검색'diy organizador' 검색'diy wood' 검색'diy muebles' 검색'diy paper' 검색'diy interieur' 검색'diy knutselen' 검색'diy holz' 검색'diy roupas customizao' 검색'diy bag' 검색'diy box' 검색'diy table' 검색'diy lamp' 검색'diy presents' 검색\n"
     ]
    }
   ],
   "source": [
    "lines = f.readlines()\n",
    "for line in lines :\n",
    "    print(line)\n",
    "f.close() "
   ]
  },
  {
   "cell_type": "code",
   "execution_count": 39,
   "metadata": {},
   "outputs": [
    {
     "name": "stdout",
     "output_type": "stream",
     "text": [
      "home\n",
      "decor\n",
      "projects\n",
      "beauty\n",
      "furniture\n",
      "jewelry\n",
      "ideas\n",
      "candles\n",
      "makeup\n",
      "apartment\n",
      "kitchen\n",
      "bracelets\n",
      "desk\n",
      "garden\n",
      "slime\n",
      "face\n",
      "wedding\n",
      "headboard\n",
      "tree\n",
      "dream\n",
      "catcher\n",
      "weihnachtsgeschenke\n",
      "shelves\n",
      "bookshelf\n",
      "storage\n",
      "supplies\n",
      "house\n",
      "when\n",
      "bored\n",
      "clothes\n",
      "teens\n",
      "decoracion\n",
      "dekoration\n",
      "basteln\n",
      "geschenke\n",
      "easy\n",
      "videos\n",
      "bedroom\n",
      "wohnen\n",
      "manualidades\n",
      "decorations\n",
      "ideen\n",
      "cuadernos\n",
      "gegen\n",
      "langeweile\n",
      "facile\n",
      "decorao\n",
      "mbel\n",
      "maquillaje\n",
      "muebles\n",
      "paper\n",
      "interieur\n",
      "knutselen\n",
      "table\n",
      "presents\n"
     ]
    }
   ],
   "source": [
    "import string\n",
    "\n",
    "with open('파일.txt', 'r') as file:\n",
    "    words = file.readline().split()\n",
    "    for word in words:\n",
    "        if word.find('e') >= 0:\n",
    "            word = word.strip(string.punctuation)\n",
    "            print(word)"
   ]
  },
  {
   "cell_type": "code",
   "execution_count": null,
   "metadata": {},
   "outputs": [],
   "source": []
  }
 ],
 "metadata": {
  "kernelspec": {
   "display_name": "Python 3",
   "language": "python",
   "name": "python3"
  },
  "language_info": {
   "codemirror_mode": {
    "name": "ipython",
    "version": 3
   },
   "file_extension": ".py",
   "mimetype": "text/x-python",
   "name": "python",
   "nbconvert_exporter": "python",
   "pygments_lexer": "ipython3",
   "version": "3.7.3"
  }
 },
 "nbformat": 4,
 "nbformat_minor": 2
}
