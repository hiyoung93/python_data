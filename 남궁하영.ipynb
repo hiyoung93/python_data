{
 "cells": [
  {
   "cell_type": "code",
   "execution_count": 17,
   "metadata": {},
   "outputs": [],
   "source": [
    "import numpy as np\n",
    "import pandas as pd\n",
    "import seaborn as sns"
   ]
  },
  {
   "cell_type": "code",
   "execution_count": 3,
   "metadata": {},
   "outputs": [
    {
     "name": "stdout",
     "output_type": "stream",
     "text": [
      "   104    451 541  12\n",
      "워   34  45.10  df  34\n",
      "라   56  51.40  sd  56\n",
      "벨   74   4.57  ef  74\n",
      "췍   34  34.00  as  34\n"
     ]
    }
   ],
   "source": [
    "# ----------------------------------- 연습문제(data.frame)\n",
    "# 1. 열 갯수와 행의 갯수가 각각 5개 이상\n",
    "# 2. 열에는 정수, 문자열, 실수, 자료형 데이터 1개씩 포함\n",
    "\n",
    "df = {\n",
    "    '104': [34, 56, 74, 34],\n",
    "    '451': [45.1, 51.4, 4.57, 34],\n",
    "    '541': ['df', 'sd', 'ef', 'as'],\n",
    "    '12': [34, 56, 74, 34],\n",
    "}\n",
    "columns = ['104','451','541','12']\n",
    "index = ['워','라','벨','췍']\n",
    "frame = pd.DataFrame(df,index=index, columns=columns)\n",
    "print(frame)\n"
   ]
  },
  {
   "cell_type": "code",
   "execution_count": 5,
   "metadata": {},
   "outputs": [
    {
     "name": "stdout",
     "output_type": "stream",
     "text": [
      "    국어  영어  수학\n",
      "춘향  80  90  90\n",
      "몽룡  90  70  60\n",
      "향단  70  60  80\n",
      "방자  30  40  70\n"
     ]
    }
   ],
   "source": [
    "\n",
    "# ----------------------- 연습문제3 -------Series&dataframe---------------------------\n",
    "data = {\n",
    "    \"국어\": [80, 90, 70, 30],\n",
    "    \"영어\": [90, 70, 60, 40],\n",
    "    \"수학\": [90, 60, 80, 70],\n",
    "}\n",
    "columns = [\"국어\", \"영어\", \"수학\"]\n",
    "index = [\"춘향\", \"몽룡\", \"향단\", \"방자\"]\n",
    "df = pd.DataFrame(data, index=index, columns=columns)\n",
    "print(df)\n"
   ]
  },
  {
   "cell_type": "code",
   "execution_count": 6,
   "metadata": {},
   "outputs": [
    {
     "name": "stdout",
     "output_type": "stream",
     "text": [
      "춘향    90\n",
      "몽룡    60\n",
      "향단    80\n",
      "방자    70\n",
      "Name: 수학, dtype: int64\n",
      "<class 'pandas.core.series.Series'>\n"
     ]
    }
   ],
   "source": [
    "# 1. 수학점수를 Series로 나타내기\n",
    "print(df['수학'])\n",
    "print(type(df['수학']))\n"
   ]
  },
  {
   "cell_type": "code",
   "execution_count": 7,
   "metadata": {},
   "outputs": [
    {
     "name": "stdout",
     "output_type": "stream",
     "text": [
      "    국어  영어\n",
      "춘향  80  90\n",
      "몽룡  90  70\n",
      "향단  70  60\n",
      "방자  30  40\n",
      "<class 'pandas.core.frame.DataFrame'>\n"
     ]
    }
   ],
   "source": [
    "# 2. 국어, 영어 점수를 dataframe으로 나타내기\n",
    "print(df[['국어','영어']])\n",
    "print(type(df[['국어','영어']]))\n"
   ]
  },
  {
   "cell_type": "code",
   "execution_count": 8,
   "metadata": {},
   "outputs": [
    {
     "name": "stdout",
     "output_type": "stream",
     "text": [
      "    국어  영어  수학   평균점수\n",
      "춘향  80  90  90  86.67\n",
      "몽룡  90  70  60  73.33\n",
      "향단  70  60  80  70.00\n",
      "방자  30  40  70  46.67\n"
     ]
    }
   ],
   "source": [
    "# 3. 모든 학생들의 각 과목 평균 점수를 새로운 열로 추가\n",
    "df['평균점수'] = (((df['국어']+df['영어']+df['수학'])/3)).round(2)\n",
    "print(df)\n"
   ]
  },
  {
   "cell_type": "code",
   "execution_count": 9,
   "metadata": {},
   "outputs": [
    {
     "name": "stdout",
     "output_type": "stream",
     "text": [
      "    국어    영어  수학   평균점수\n",
      "춘향  80  90.0  90  86.67\n",
      "몽룡  90  70.0  60  73.33\n",
      "향단  70  60.0  80  70.00\n",
      "방자  30  80.0  70  60.00\n"
     ]
    }
   ],
   "source": [
    "# 4. 방자의 영어 점수를 80점으로수정, 평균점수 다시 계산\n",
    "eng = pd.DataFrame({'영어':[80]},index=['방자'])\n",
    "df.update(eng)\n",
    "df['평균점수'] = (((df['국어']+df['영어']+df['수학'])/3)).round(2)\n",
    "print(df)\n"
   ]
  },
  {
   "cell_type": "code",
   "execution_count": 10,
   "metadata": {},
   "outputs": [
    {
     "name": "stdout",
     "output_type": "stream",
     "text": [
      "    국어    영어  수학   평균점수\n",
      "춘향  80  90.0  90  86.67\n",
      "<class 'pandas.core.frame.DataFrame'>\n"
     ]
    }
   ],
   "source": [
    "# 5. 춘향이의 점수를 dataframe으로 나타내기\n",
    "print(df[:1])\n",
    "print(type(df[:1]))\n"
   ]
  },
  {
   "cell_type": "code",
   "execution_count": 11,
   "metadata": {},
   "outputs": [
    {
     "name": "stdout",
     "output_type": "stream",
     "text": [
      "    국어    영어  수학  평균점수\n",
      "향단  70  60.0  80  70.0\n"
     ]
    }
   ],
   "source": [
    "\n",
    "# 6. 향단이의 점수를 Series로 나타내기\n",
    "print(df[2:3])"
   ]
  },
  {
   "cell_type": "code",
   "execution_count": 12,
   "metadata": {},
   "outputs": [
    {
     "name": "stdout",
     "output_type": "stream",
     "text": [
      "안녕     3\n",
      "반가워    5\n",
      "저리가    6\n",
      "바보야    7\n",
      "dtype: int64\n"
     ]
    },
    {
     "data": {
      "text/plain": [
       "안녕     0\n",
       "반가워    0\n",
       "저리가    0\n",
       "바보야    0\n",
       "dtype: int64"
      ]
     },
     "execution_count": 12,
     "metadata": {},
     "output_type": "execute_result"
    }
   ],
   "source": [
    "\n",
    "# --------------------------- 연습문제1(Series)\n",
    "# 1. 임의의 두개의 시리즈객체 생성, 문자열 index가지기, 공통적으로 포함되지 않는 라벨\n",
    "a = pd.Series([3,5,6,7], index = ['안녕','반가워','저리가','바보야'])\n",
    "b = pd.Series([3,5,6,7], index = ['안녕','반가워','저리가','바보야'])\n",
    "print(a)\n",
    "# 2. 두 시리즈 객체를 이용해서 사칙연산 만들기\n",
    "a - b\n"
   ]
  },
  {
   "cell_type": "code",
   "execution_count": 13,
   "metadata": {},
   "outputs": [
    {
     "name": "stdout",
     "output_type": "stream",
     "text": [
      "    A   B   C   D   E\n",
      "a   2  27  11  10  23\n",
      "b  22   5   4   6  12\n",
      "c  11  15  19  26  25\n",
      "d   7  22  23  21   6\n",
      "e   1   6  21  20  20\n"
     ]
    }
   ],
   "source": [
    "\n",
    "# -------------연습문제 1 ----------------------(loc,iloc)\n",
    "# 1. 행과 열에 라벨을 가지는 5x5이상의 크기를 가지는 dataframe만들기\n",
    "np.random.seed(34)\n",
    "a = pd.DataFrame(np.random.randint(1, 30, size =(5, 5)),\n",
    "                 index = ['a','b','c','d','e'],\n",
    "                 columns=['A','B','C','D','E'])\n",
    "print(a)"
   ]
  },
  {
   "cell_type": "code",
   "execution_count": 14,
   "metadata": {},
   "outputs": [
    {
     "name": "stdout",
     "output_type": "stream",
     "text": [
      "a     2\n",
      "b    22\n",
      "c    11\n",
      "d     7\n",
      "e     1\n",
      "Name: A, dtype: int32\n",
      "a     True\n",
      "b    False\n",
      "c    False\n",
      "d     True\n",
      "e    False\n",
      "dtype: bool\n",
      "A     2\n",
      "B    27\n",
      "C    11\n",
      "D    10\n",
      "E    23\n",
      "Name: a, dtype: int32\n",
      "    A   B   C\n",
      "c  11  15  19\n",
      "d   7  22  23\n",
      "    A   C\n",
      "b  22   4\n",
      "d   7  23\n",
      "27\n",
      "    A   B   C   D   E\n",
      "a   2  27  11  10  23\n",
      "b  22   5   4   6  12\n",
      "c  11  15  19  26  25\n",
      "d   7  22  23  21   6\n",
      "   A  B   C   D   E\n",
      "e  1  6  21  20  20\n",
      "a    23\n",
      "b    12\n",
      "c    25\n",
      "d     6\n",
      "e    20\n",
      "Name: E, dtype: int32\n"
     ]
    }
   ],
   "source": [
    "\n",
    "# 2. 10가지 이상의 방법으로 행, 열 선택하기\n",
    "print(a.A)\n",
    "print(a.B > a.D)\n",
    "print(a.loc['a',: ])\n",
    "print(a.iloc[2:4,0:3])\n",
    "print(a.loc[a.E < 20,['A','C']])\n",
    "print(a.loc['a','B'])\n",
    "print(a.iloc[0:4])\n",
    "print(a.iloc[-1:])\n",
    "print(a.E)"
   ]
  },
  {
   "cell_type": "code",
   "execution_count": 18,
   "metadata": {},
   "outputs": [
    {
     "name": "stdout",
     "output_type": "stream",
     "text": [
      "<bound method DataFrame.count of      survived  pclass     sex   age  sibsp  parch      fare embarked   class  \\\n",
      "0           0       3    male  22.0      1      0    7.2500        S   Third   \n",
      "1           1       1  female  38.0      1      0   71.2833        C   First   \n",
      "2           1       3  female  26.0      0      0    7.9250        S   Third   \n",
      "3           1       1  female  35.0      1      0   53.1000        S   First   \n",
      "4           0       3    male  35.0      0      0    8.0500        S   Third   \n",
      "5           0       3    male   NaN      0      0    8.4583        Q   Third   \n",
      "6           0       1    male  54.0      0      0   51.8625        S   First   \n",
      "7           0       3    male   2.0      3      1   21.0750        S   Third   \n",
      "8           1       3  female  27.0      0      2   11.1333        S   Third   \n",
      "9           1       2  female  14.0      1      0   30.0708        C  Second   \n",
      "10          1       3  female   4.0      1      1   16.7000        S   Third   \n",
      "11          1       1  female  58.0      0      0   26.5500        S   First   \n",
      "12          0       3    male  20.0      0      0    8.0500        S   Third   \n",
      "13          0       3    male  39.0      1      5   31.2750        S   Third   \n",
      "14          0       3  female  14.0      0      0    7.8542        S   Third   \n",
      "15          1       2  female  55.0      0      0   16.0000        S  Second   \n",
      "16          0       3    male   2.0      4      1   29.1250        Q   Third   \n",
      "17          1       2    male   NaN      0      0   13.0000        S  Second   \n",
      "18          0       3  female  31.0      1      0   18.0000        S   Third   \n",
      "19          1       3  female   NaN      0      0    7.2250        C   Third   \n",
      "20          0       2    male  35.0      0      0   26.0000        S  Second   \n",
      "21          1       2    male  34.0      0      0   13.0000        S  Second   \n",
      "22          1       3  female  15.0      0      0    8.0292        Q   Third   \n",
      "23          1       1    male  28.0      0      0   35.5000        S   First   \n",
      "24          0       3  female   8.0      3      1   21.0750        S   Third   \n",
      "25          1       3  female  38.0      1      5   31.3875        S   Third   \n",
      "26          0       3    male   NaN      0      0    7.2250        C   Third   \n",
      "27          0       1    male  19.0      3      2  263.0000        S   First   \n",
      "28          1       3  female   NaN      0      0    7.8792        Q   Third   \n",
      "29          0       3    male   NaN      0      0    7.8958        S   Third   \n",
      "..        ...     ...     ...   ...    ...    ...       ...      ...     ...   \n",
      "861         0       2    male  21.0      1      0   11.5000        S  Second   \n",
      "862         1       1  female  48.0      0      0   25.9292        S   First   \n",
      "863         0       3  female   NaN      8      2   69.5500        S   Third   \n",
      "864         0       2    male  24.0      0      0   13.0000        S  Second   \n",
      "865         1       2  female  42.0      0      0   13.0000        S  Second   \n",
      "866         1       2  female  27.0      1      0   13.8583        C  Second   \n",
      "867         0       1    male  31.0      0      0   50.4958        S   First   \n",
      "868         0       3    male   NaN      0      0    9.5000        S   Third   \n",
      "869         1       3    male   4.0      1      1   11.1333        S   Third   \n",
      "870         0       3    male  26.0      0      0    7.8958        S   Third   \n",
      "871         1       1  female  47.0      1      1   52.5542        S   First   \n",
      "872         0       1    male  33.0      0      0    5.0000        S   First   \n",
      "873         0       3    male  47.0      0      0    9.0000        S   Third   \n",
      "874         1       2  female  28.0      1      0   24.0000        C  Second   \n",
      "875         1       3  female  15.0      0      0    7.2250        C   Third   \n",
      "876         0       3    male  20.0      0      0    9.8458        S   Third   \n",
      "877         0       3    male  19.0      0      0    7.8958        S   Third   \n",
      "878         0       3    male   NaN      0      0    7.8958        S   Third   \n",
      "879         1       1  female  56.0      0      1   83.1583        C   First   \n",
      "880         1       2  female  25.0      0      1   26.0000        S  Second   \n",
      "881         0       3    male  33.0      0      0    7.8958        S   Third   \n",
      "882         0       3  female  22.0      0      0   10.5167        S   Third   \n",
      "883         0       2    male  28.0      0      0   10.5000        S  Second   \n",
      "884         0       3    male  25.0      0      0    7.0500        S   Third   \n",
      "885         0       3  female  39.0      0      5   29.1250        Q   Third   \n",
      "886         0       2    male  27.0      0      0   13.0000        S  Second   \n",
      "887         1       1  female  19.0      0      0   30.0000        S   First   \n",
      "888         0       3  female   NaN      1      2   23.4500        S   Third   \n",
      "889         1       1    male  26.0      0      0   30.0000        C   First   \n",
      "890         0       3    male  32.0      0      0    7.7500        Q   Third   \n",
      "\n",
      "       who  adult_male deck  embark_town alive  alone  \n",
      "0      man        True  NaN  Southampton    no  False  \n",
      "1    woman       False    C    Cherbourg   yes  False  \n",
      "2    woman       False  NaN  Southampton   yes   True  \n",
      "3    woman       False    C  Southampton   yes  False  \n",
      "4      man        True  NaN  Southampton    no   True  \n",
      "5      man        True  NaN   Queenstown    no   True  \n",
      "6      man        True    E  Southampton    no   True  \n",
      "7    child       False  NaN  Southampton    no  False  \n",
      "8    woman       False  NaN  Southampton   yes  False  \n",
      "9    child       False  NaN    Cherbourg   yes  False  \n",
      "10   child       False    G  Southampton   yes  False  \n",
      "11   woman       False    C  Southampton   yes   True  \n",
      "12     man        True  NaN  Southampton    no   True  \n",
      "13     man        True  NaN  Southampton    no  False  \n",
      "14   child       False  NaN  Southampton    no   True  \n",
      "15   woman       False  NaN  Southampton   yes   True  \n",
      "16   child       False  NaN   Queenstown    no  False  \n",
      "17     man        True  NaN  Southampton   yes   True  \n",
      "18   woman       False  NaN  Southampton    no  False  \n",
      "19   woman       False  NaN    Cherbourg   yes   True  \n",
      "20     man        True  NaN  Southampton    no   True  \n",
      "21     man        True    D  Southampton   yes   True  \n",
      "22   child       False  NaN   Queenstown   yes   True  \n",
      "23     man        True    A  Southampton   yes   True  \n",
      "24   child       False  NaN  Southampton    no  False  \n",
      "25   woman       False  NaN  Southampton   yes  False  \n",
      "26     man        True  NaN    Cherbourg    no   True  \n",
      "27     man        True    C  Southampton    no  False  \n",
      "28   woman       False  NaN   Queenstown   yes   True  \n",
      "29     man        True  NaN  Southampton    no   True  \n",
      "..     ...         ...  ...          ...   ...    ...  \n",
      "861    man        True  NaN  Southampton    no  False  \n",
      "862  woman       False    D  Southampton   yes   True  \n",
      "863  woman       False  NaN  Southampton    no  False  \n",
      "864    man        True  NaN  Southampton    no   True  \n",
      "865  woman       False  NaN  Southampton   yes   True  \n",
      "866  woman       False  NaN    Cherbourg   yes  False  \n",
      "867    man        True    A  Southampton    no   True  \n",
      "868    man        True  NaN  Southampton    no   True  \n",
      "869  child       False  NaN  Southampton   yes  False  \n",
      "870    man        True  NaN  Southampton    no   True  \n",
      "871  woman       False    D  Southampton   yes  False  \n",
      "872    man        True    B  Southampton    no   True  \n",
      "873    man        True  NaN  Southampton    no   True  \n",
      "874  woman       False  NaN    Cherbourg   yes  False  \n",
      "875  child       False  NaN    Cherbourg   yes   True  \n",
      "876    man        True  NaN  Southampton    no   True  \n",
      "877    man        True  NaN  Southampton    no   True  \n",
      "878    man        True  NaN  Southampton    no   True  \n",
      "879  woman       False    C    Cherbourg   yes  False  \n",
      "880  woman       False  NaN  Southampton   yes  False  \n",
      "881    man        True  NaN  Southampton    no   True  \n",
      "882  woman       False  NaN  Southampton    no   True  \n",
      "883    man        True  NaN  Southampton    no   True  \n",
      "884    man        True  NaN  Southampton    no   True  \n",
      "885  woman       False  NaN   Queenstown    no  False  \n",
      "886    man        True  NaN  Southampton    no   True  \n",
      "887  woman       False    B  Southampton   yes   True  \n",
      "888  woman       False  NaN  Southampton    no  False  \n",
      "889    man        True    C    Cherbourg   yes   True  \n",
      "890    man        True  NaN   Queenstown    no   True  \n",
      "\n",
      "[891 rows x 15 columns]>\n"
     ]
    }
   ],
   "source": [
    "# ---------------------------------- 연습문제 4.2.5\n",
    "# 타이타닉호 승객데이터의 데이터 값을 각 열마다 구해본다.\n",
    "titanic = sns.load_dataset(\"titanic\")\n",
    "print(titanic.count)\n"
   ]
  },
  {
   "cell_type": "code",
   "execution_count": 21,
   "metadata": {},
   "outputs": [
    {
     "name": "stdout",
     "output_type": "stream",
     "text": [
      "male      577\n",
      "female    314\n",
      "Name: sex, dtype: int64\n",
      "24.00    30\n",
      "22.00    27\n",
      "18.00    26\n",
      "19.00    25\n",
      "30.00    25\n",
      "28.00    25\n",
      "21.00    24\n",
      "25.00    23\n",
      "36.00    22\n",
      "29.00    20\n",
      "32.00    18\n",
      "27.00    18\n",
      "35.00    18\n",
      "26.00    18\n",
      "16.00    17\n",
      "31.00    17\n",
      "20.00    15\n",
      "33.00    15\n",
      "23.00    15\n",
      "34.00    15\n",
      "39.00    14\n",
      "17.00    13\n",
      "42.00    13\n",
      "40.00    13\n",
      "45.00    12\n",
      "38.00    11\n",
      "50.00    10\n",
      "2.00     10\n",
      "4.00     10\n",
      "47.00     9\n",
      "         ..\n",
      "71.00     2\n",
      "59.00     2\n",
      "63.00     2\n",
      "0.83      2\n",
      "30.50     2\n",
      "70.00     2\n",
      "57.00     2\n",
      "0.75      2\n",
      "13.00     2\n",
      "10.00     2\n",
      "64.00     2\n",
      "40.50     2\n",
      "32.50     2\n",
      "45.50     2\n",
      "20.50     1\n",
      "24.50     1\n",
      "0.67      1\n",
      "14.50     1\n",
      "0.92      1\n",
      "74.00     1\n",
      "34.50     1\n",
      "80.00     1\n",
      "12.00     1\n",
      "36.50     1\n",
      "53.00     1\n",
      "55.50     1\n",
      "70.50     1\n",
      "66.00     1\n",
      "23.50     1\n",
      "0.42      1\n",
      "Name: age, Length: 88, dtype: int64\n",
      "Third     491\n",
      "First     216\n",
      "Second    184\n",
      "Name: class, dtype: int64\n",
      "no     549\n",
      "yes    342\n",
      "Name: alive, dtype: int64\n"
     ]
    }
   ],
   "source": [
    "\n",
    "# ---------------------------------- 연습문제 4.2.6\n",
    "# sex, age, class, alive 인원수 구하기\n",
    "print(titanic['sex'].value_counts())\n",
    "print(titanic['age'].value_counts())\n",
    "print(titanic['class'].value_counts())\n",
    "print(titanic['alive'].value_counts())\n",
    "\n",
    "\n",
    "# ---------------------------------- 연습문제 4.2.7\n",
    "# 사망자와 생존자로 그룹 나누고 labels의 승객비율구하기\n",
    "# 비율의 전체 합은 1 이 되어야 한다\n",
    "bins = [1, 15, 25, 35, 60, 99]\n",
    "labels = [\"미성년자\", \"청년\", \"중년\", \"장년\", \"노년\"]"
   ]
  },
  {
   "cell_type": "code",
   "execution_count": 19,
   "metadata": {},
   "outputs": [
    {
     "name": "stdout",
     "output_type": "stream",
     "text": [
      "    0   1   2\n",
      "0  83  92  91\n",
      "1  71  54  85\n",
      "2  55  61  92\n",
      "3  64  79  68\n",
      "4  79  75  79\n",
      "    국어  수학  영어\n",
      "하영  83  92  91\n",
      "선우  71  54  85\n",
      "용후  55  61  92\n",
      "세영  64  79  68\n",
      "희택  79  75  79\n",
      "  index  국어  수학  영어\n",
      "0    하영  83  92  91\n",
      "1    선우  71  54  85\n",
      "2    용후  55  61  92\n",
      "3    세영  64  79  68\n",
      "4    희택  79  75  79\n"
     ]
    }
   ],
   "source": [
    "\n",
    "# ----------------------------------- 연습문제 1(인덱스 조작)\n",
    "\n",
    "# 1. 5명의 국,영,수 점수 만들기, 학생이름 열 포함하지 않기,\n",
    "# df_score1 명을 가진 DataFrame생성\n",
    "# df_score1.index 명에 학생이름 지정 index생성\n",
    "# reset_index 로 df_score1.index을 일반 데이터열로 바꾸어서 df_score2 만들기\n",
    "\n",
    "np.random.seed(34)\n",
    "\n",
    "df_score1 = pd.DataFrame(np.random.randint(50, 100, size =(5, 3)))\n",
    "print(df_score1)\n",
    "\n",
    "df_score1.index = ['하영','선우','용후','세영','희택']\n",
    "df_score1.columns = ['국어','수학','영어']\n",
    "print(df_score1)\n",
    "\n",
    "df_score2 = df_score1.reset_index()\n",
    "print(df_score2)\n"
   ]
  },
  {
   "cell_type": "code",
   "execution_count": 20,
   "metadata": {},
   "outputs": [
    {
     "name": "stdout",
     "output_type": "stream",
     "text": [
      "       국어  수학  영어\n",
      "index            \n",
      "하영     83  92  91\n",
      "선우     71  54  85\n",
      "용후     55  61  92\n",
      "세영     64  79  68\n",
      "희택     79  75  79\n"
     ]
    }
   ],
   "source": [
    "\n",
    "\n",
    "# 2. df_score2 에 set_index로 학생이름 나타내는 인덱스 변경\n",
    "\n",
    "df_score2 = df_score2.set_index('index')\n",
    "print(df_score2)\n"
   ]
  },
  {
   "cell_type": "code",
   "execution_count": null,
   "metadata": {},
   "outputs": [],
   "source": []
  }
 ],
 "metadata": {
  "kernelspec": {
   "display_name": "Python 3",
   "language": "python",
   "name": "python3"
  },
  "language_info": {
   "codemirror_mode": {
    "name": "ipython",
    "version": 3
   },
   "file_extension": ".py",
   "mimetype": "text/x-python",
   "name": "python",
   "nbconvert_exporter": "python",
   "pygments_lexer": "ipython3",
   "version": "3.7.3"
  }
 },
 "nbformat": 4,
 "nbformat_minor": 2
}
