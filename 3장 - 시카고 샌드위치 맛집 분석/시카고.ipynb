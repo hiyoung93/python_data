{
 "cells": [
  {
   "cell_type": "code",
   "execution_count": 4,
   "metadata": {},
   "outputs": [],
   "source": [
    "from bs4 import BeautifulSoup\n",
    "from urllib.request import urlopen\n",
    "\n",
    "url_base = 'http://www.chicagomag.com'\n",
    "url_sub = '/Chicago-Magazine/November-2012/Best-Sandwiches-Chicago/'\n",
    "url = url_base + url_sub\n",
    "\n",
    "html = urlopen(url)\n",
    "soup = BeautifulSoup(html, 'html.parser')\n",
    "\n",
    "\n"
   ]
  },
  {
   "cell_type": "code",
   "execution_count": 5,
   "metadata": {},
   "outputs": [
    {
     "name": "stdout",
     "output_type": "stream",
     "text": [
      "[<div class=\"sammy\" style=\"position: relative;\">\n",
      "<div class=\"sammyRank\">1</div>\n",
      "<div class=\"sammyListing\"><a href=\"/Chicago-Magazine/November-2012/Best-Sandwiches-in-Chicago-Old-Oak-Tap-BLT/\"><b>BLT</b><br>\r\n",
      "Old Oak Tap<br>\n",
      "<em>Read more</em> </br></br></a></div>\n",
      "</div>, <div class=\"sammy\" style=\"position: relative;\">\n",
      "<div class=\"sammyRank\">2</div>\n",
      "<div class=\"sammyListing\"><a href=\"/Chicago-Magazine/November-2012/Best-Sandwiches-in-Chicago-Au-Cheval-Fried-Bologna/\"><b>Fried Bologna</b><br/>\r\n",
      "Au Cheval<br/>\n",
      "<em>Read more</em> </a></div>\n",
      "</div>, <div class=\"sammy\" style=\"position: relative;\">\n",
      "<div class=\"sammyRank\">3</div>\n",
      "<div class=\"sammyListing\"><a href=\"/Chicago-Magazine/November-2012/Best-Sandwiches-in-Chicago-Xoco-Woodland-Mushroom/\"><b>Woodland Mushroom</b><br/>\r\n",
      "Xoco<br/>\n",
      "<em>Read more</em> </a></div>\n",
      "</div>, <div class=\"sammy\" style=\"position: relative;\">\n",
      "<div class=\"sammyRank\">4</div>\n",
      "<div class=\"sammyListing\"><a href=\"/Chicago-Magazine/November-2012/Best-Sandwiches-in-Chicago-Als-Deli-Roast-Beef/\"><b>Roast Beef</b><br/>\r\n",
      "Al’s Deli<br/>\n",
      "<em>Read more</em> </a></div>\n",
      "</div>, <div class=\"sammy\" style=\"position: relative;\">\n",
      "<div class=\"sammyRank\">5</div>\n",
      "<div class=\"sammyListing\"><a href=\"/Chicago-Magazine/November-2012/Best-Sandwiches-in-Chicago-Publican-Quality-Meats-PB-L/\"><b>PB&amp;L</b><br/>\r\n",
      "Publican Quality Meats<br/>\n",
      "<em>Read more</em> </a></div>\n",
      "</div>, <div class=\"sammy\" style=\"position: relative;\">\n",
      "<div class=\"sammyRank\">6</div>\n",
      "<div class=\"sammyListing\"><a href=\"http://www.chicagomag.com/Chicago-Magazine/November-2012/Best-Sandwiches-in-Chicago-Hendrickx-Belgian-Bread-Crafter-Belgian-Chicken-Curry-Salad/\"><b>Belgian Chicken Curry Salad</b><br/>\r\n",
      "Hendrickx Belgian Bread Crafter<br/>\n",
      "<em>Read more</em> </a></div>\n",
      "</div>, <div class=\"sammy\" style=\"position: relative;\">\n",
      "<div class=\"sammyRank\">7</div>\n",
      "<div class=\"sammyListing\"><a href=\"/Chicago-Magazine/November-2012/Best-Sandwiches-in-Chicago-Acadia-Lobster-Roll/\"><b>Lobster Roll</b><br/>\r\n",
      "Acadia<br/>\n",
      "<em>Read more</em> </a></div>\n",
      "</div>, <div class=\"sammy\" style=\"position: relative;\">\n",
      "<div class=\"sammyRank\">8</div>\n",
      "<div class=\"sammyListing\"><a href=\"/Chicago-Magazine/November-2012/Best-Sandwiches-in-Chicago-Birchwood-Kitchen-Smoked-Salmon-Salad/\"><b>Smoked Salmon Salad</b><br/>\r\n",
      "Birchwood Kitchen<br/>\n",
      "<em>Read more</em> </a></div>\n",
      "</div>, <div class=\"sammy\" style=\"position: relative;\">\n",
      "<div class=\"sammyRank\">9</div>\n",
      "<div class=\"sammyListing\"><a href=\"/Chicago-Magazine/November-2012/Best-Sandwiches-in-Chicago-Cemitas-Puebla-Atomica-Cemitas/\"><b>Atomica Cemitas</b><br/>\r\n",
      "Cemitas Puebla<br/>\n",
      "<em>Read more</em> </a></div>\n",
      "</div>, <div class=\"sammy\" style=\"position: relative;\">\n",
      "<div class=\"sammyRank\">10</div>\n",
      "<div class=\"sammyListing\"><a href=\"/Chicago-Magazine/November-2012/Best-Sandwiches-in-Chicago-Nana-Grilled-Laughing-Bird-Shrimp-and-Fried-Oyster-Po-Boy/\"><b>Grilled Laughing Bird Shrimp and Fried Po’ Boy</b><br/>\r\n",
      "Nana<br/>\n",
      "<em>Read more</em> </a></div>\n",
      "</div>, <div class=\"sammy\" style=\"position: relative;\">\n",
      "<div class=\"sammyRank\">11</div>\n",
      "<div class=\"sammyListing\"><a href=\"http://www.chicagomag.com/Chicago-Magazine/November-2012/Best-Sandwiches-in-Chicago-Lula-Cafe-Ham-and-Raclette-Panino/\"><b>Ham and Raclette Panino</b><br/>\r\n",
      "Lula Cafe<br/>\n",
      "<em>Read more</em> </a></div>\n",
      "</div>, <div class=\"sammy\" style=\"position: relative;\">\n",
      "<div class=\"sammyRank\">12</div>\n",
      "<div class=\"sammyListing\"><a href=\"http://www.chicagomag.com/Chicago-Magazine/November-2012/Best-Sandwiches-in-Chicago-Ricobenes-Breaded-Steak/\"><b>Breaded Steak</b><br/>\r\n",
      "Ricobene’s<br/>\n",
      "<em>Read more</em> </a></div>\n",
      "</div>, <div class=\"sammy\" style=\"position: relative;\">\n",
      "<div class=\"sammyRank\">13</div>\n",
      "<div class=\"sammyListing\"><a href=\"http://www.chicagomag.com/Chicago-Magazine/November-2012/Best-Sandwiches-in-Chicago-Frog-n-Snail-The-Hawkeye/\"><b>The Hawkeye</b><br/>\r\n",
      "Frog n Snail<br/>\n",
      "<em>Read more</em> </a></div>\n",
      "</div>, <div class=\"sammy\" style=\"position: relative;\">\n",
      "<div class=\"sammyRank\">14</div>\n",
      "<div class=\"sammyListing\"><a href=\"http://www.chicagomag.com/Chicago-Magazine/November-2012/Best-Sandwiches-in-Chicago-Crosbys-Kitchen-Chicken-Dip/\"><b>Chicken Dip</b><br/>\r\n",
      "Crosby’s Kitchen<br/>\n",
      "<em>Read more</em> </a></div>\n",
      "</div>, <div class=\"sammy\" style=\"position: relative;\">\n",
      "<div class=\"sammyRank\">15</div>\n",
      "<div class=\"sammyListing\"><a href=\"http://www.chicagomag.com/Chicago-Magazine/November-2012/Best-Sandwiches-in-Chicago-Longman-and-Eagle-Wild-Boar-Sloppy-Joe/\"><b>Wild Boar Sloppy Joe</b><br/>\r\n",
      "Longman &amp; Eagle<br/>\n",
      "<em>Read more</em> </a></div>\n",
      "</div>, <div class=\"sammy\" style=\"position: relative;\">\n",
      "<div class=\"sammyRank\">16</div>\n",
      "<div class=\"sammyListing\"><a href=\"http://www.chicagomag.com/Chicago-Magazine/November-2012/Best-Sandwiches-in-Chicago-Bari-Meatball-Sub/\"><b>Meatball Sub</b><br/>\r\n",
      "Bari<br/>\n",
      "<em>Read more</em> </a></div>\n",
      "</div>, <div class=\"sammy\" style=\"position: relative;\">\n",
      "<div class=\"sammyRank\">17</div>\n",
      "<div class=\"sammyListing\"><a href=\"http://www.chicagomag.com/Chicago-Magazine/November-2012/Best-Sandwiches-in-Chicago-Mannys-Corned-Beef/\"><b>Corned Beef</b><br/>\r\n",
      "Manny’s<br/>\n",
      "<em>Read more</em> </a></div>\n",
      "</div>, <div class=\"sammy\" style=\"position: relative;\">\n",
      "<div class=\"sammyRank\">18</div>\n",
      "<div class=\"sammyListing\"><a href=\"http://www.chicagomag.com/Chicago-Magazine/November-2012/Best-Sandwiches-in-Chicago-Eggys-Turkey-Club/\"><b>Turkey Club</b><br/>\r\n",
      "Eggy’s<br/>\n",
      "<em>Read more</em> </a></div>\n",
      "</div>, <div class=\"sammy\" style=\"position: relative;\">\n",
      "<div class=\"sammyRank\">19</div>\n",
      "<div class=\"sammyListing\"><a href=\"http://www.chicagomag.com/Chicago-Magazine/November-2012/Best-Sandwiches-in-Chicago-Old-Jerusalem-Falafel/\"><b>Falafel</b><br/>\r\n",
      "Old Jerusalem<br/>\n",
      "<em>Read more</em> </a></div>\n",
      "</div>, <div class=\"sammy\" style=\"position: relative;\">\n",
      "<div class=\"sammyRank\">20</div>\n",
      "<div class=\"sammyListing\"><a href=\"http://www.chicagomag.com/Chicago-Magazine/November-2012/Best-Sandwiches-in-Chicago-Mindys-HotChocolate-Crab-Cake/\"><b>Crab Cake</b><br/>\r\n",
      "Mindy’s HotChocolate<br/>\n",
      "<em>Read more</em> </a></div>\n",
      "</div>, <div class=\"sammy\" style=\"position: relative;\">\n",
      "<div class=\"sammyRank\">21</div>\n",
      "<div class=\"sammyListing\"><a href=\"http://www.chicagomag.com/Chicago-Magazine/November-2012/Best-Sandwiches-in-Chicago-Olgas-Delicatessen-Chicken-Schnitzel/\"><b>Chicken Schnitzel</b><br/>\r\n",
      "Olga’s Delicatessen<br/>\n",
      "<em>Read more</em> </a></div>\n",
      "</div>, <div class=\"sammy\" style=\"position: relative;\">\n",
      "<div class=\"sammyRank\">22</div>\n",
      "<div class=\"sammyListing\"><a href=\"http://www.chicagomag.com/Chicago-Magazine/November-2012/Best-Sandwiches-in-Chicago-Dawali-Mediterranean-Kitchen-Shawarma/\"><b>Shawarma</b><br/>\r\n",
      "Dawali Mediterranean Kitchen<br/>\n",
      "<em>Read more</em> </a></div>\n",
      "</div>, <div class=\"sammy\" style=\"position: relative;\">\n",
      "<div class=\"sammyRank\">23</div>\n",
      "<div class=\"sammyListing\"><a href=\"http://www.chicagomag.com/Chicago-Magazine/November-2012/Best-Sandwiches-in-Chicago-Big-Jones-Toasted-Pimiento-Cheese/\"><b>Toasted Pimiento Cheese</b><br/>\r\n",
      "Big Jones<br/>\n",
      "<em>Read more</em> </a></div>\n",
      "</div>, <div class=\"sammy\" style=\"position: relative;\">\n",
      "<div class=\"sammyRank\">24</div>\n",
      "<div class=\"sammyListing\"><a href=\"http://www.chicagomag.com/Chicago-Magazine/November-2012/Best-Sandwiches-in-Chicago-La-Pane-Vegetarian-Panino/\"><b>Vegetarian Panino</b><br/>\r\n",
      "La Pane<br/>\n",
      "<em>Read more</em> </a></div>\n",
      "</div>, <div class=\"sammy\" style=\"position: relative;\">\n",
      "<div class=\"sammyRank\">25</div>\n",
      "<div class=\"sammyListing\"><a href=\"/Chicago-Magazine/November-2012/Best-Sandwiches-in-Chicago-Pastoral-Cali-Chevre/\"><b>Cali Chèvre</b><br/>\r\n",
      "Pastoral<br/>\n",
      "<em>Read more</em> </a></div>\n",
      "</div>, <div class=\"sammy\" style=\"position: relative;\">\n",
      "<div class=\"sammyRank\">26</div>\n",
      "<div class=\"sammyListing\"><a href=\"http://www.chicagomag.com/Chicago-Magazine/November-2012/Best-Sandwiches-in-Chicago-Maxs-Deli-Pastrami/\"><b>Pastrami</b><br/>\r\n",
      "Max’s Deli<br/>\n",
      "<em>Read more</em> </a></div>\n",
      "</div>, <div class=\"sammy\" style=\"position: relative;\">\n",
      "<div class=\"sammyRank\">27</div>\n",
      "<div class=\"sammyListing\"><a href=\"http://www.chicagomag.com/Chicago-Magazine/November-2012/Best-Sandwiches-in-Chicago-Luckys-Sandwich-Co-The-Fredo/\"><b>The Fredo</b><br/>\r\n",
      "Lucky’s Sandwich Co.<br/>\n",
      "<em>Read more</em> </a></div>\n",
      "</div>, <div class=\"sammy\" style=\"position: relative;\">\n",
      "<div class=\"sammyRank\">28</div>\n",
      "<div class=\"sammyListing\"><a href=\"http://www.chicagomag.com/Chicago-Magazine/November-2012/Best-Sandwiches-in-Chicago-City-Provisions-Smoked-Ham/\"><b>Smoked Ham</b><br/>\r\n",
      "City Provisions<br/>\n",
      "<em>Read more</em> </a></div>\n",
      "</div>, <div class=\"sammy\" style=\"position: relative;\">\n",
      "<div class=\"sammyRank\">29</div>\n",
      "<div class=\"sammyListing\"><a href=\"http://www.chicagomag.com/Chicago-Magazine/November-2012/Best-Sandwiches-in-Chicago-Papas-Cache-Sabroso-Jibarito/\"><b>Jibarito</b><br/>\r\n",
      "Papa’s Cache Sabroso<br/>\n",
      "<em>Read more</em> </a></div>\n",
      "</div>, <div class=\"sammy\" style=\"position: relative;\">\n",
      "<div class=\"sammyRank\">30</div>\n",
      "<div class=\"sammyListing\"><a href=\"http://www.chicagomag.com/Chicago-Magazine/November-2012/Best-Sandwiches-in-Chicago-Bavettes-Bar-and-Boeuf-Shaved-Prime-Rib/\"><b>Shaved Prime Rib</b><br/>\r\n",
      "Bavette’s Bar &amp; Boeuf<br/>\n",
      "<em>Read more</em> </a></div>\n",
      "</div>, <div class=\"sammy\" style=\"position: relative;\">\n",
      "<div class=\"sammyRank\">31</div>\n",
      "<div class=\"sammyListing\"><a href=\"http://www.chicagomag.com/Chicago-Magazine/November-2012/Best-Sandwiches-in-Chicago-Hannahs-Bretzel-Serrano-Ham-and-Manchego-Cheese/\"><b>Serrano Ham and Manchego Cheese</b><br/>\r\n",
      "Hannah’s Bretzel<br/>\n",
      "<em>Read more</em> </a></div>\n",
      "</div>, <div class=\"sammy\" style=\"position: relative;\">\n",
      "<div class=\"sammyRank\">32</div>\n",
      "<div class=\"sammyListing\"><a href=\"http://www.chicagomag.com/Chicago-Magazine/November-2012/Best-Sandwiches-in-Chicago-La-Fournette-Tuna-Salad/\"><b>Tuna Salad</b><br/>\r\n",
      "La Fournette<br/>\n",
      "<em>Read more</em> </a></div>\n",
      "</div>, <div class=\"sammy\" style=\"position: relative;\">\n",
      "<div class=\"sammyRank\">33</div>\n",
      "<div class=\"sammyListing\"><a href=\"http://www.chicagomag.com/Chicago-Magazine/November-2012/Best-Sandwiches-in-Chicago-Paramount-Room-Paramount-Reuben/\"><b>Paramount Reuben</b><br/>\r\n",
      "Paramount Room<br/>\n",
      "<em>Read more</em> </a></div>\n",
      "</div>, <div class=\"sammy\" style=\"position: relative;\">\n",
      "<div class=\"sammyRank\">34</div>\n",
      "<div class=\"sammyListing\"><a href=\"http://www.chicagomag.com/Chicago-Magazine/November-2012/Best-Sandwiches-in-Chicago-Melt-Sandwich-Shoppe-The-Istanbul/\"><b>The Istanbul</b><br/>\r\n",
      "Melt Sandwich Shoppe<br/>\n",
      "<em>Read more</em> </a></div>\n",
      "</div>, <div class=\"sammy\" style=\"position: relative;\">\n",
      "<div class=\"sammyRank\">35</div>\n",
      "<div class=\"sammyListing\"><a href=\"http://www.chicagomag.com/Chicago-Magazine/November-2012/Best-Sandwiches-in-Chicago-Floriole-Cafe-and-Bakery-BAD/\"><b>B.A.D.</b><br/>\r\n",
      "Floriole Cafe &amp; Bakery<br/>\n",
      "<em>Read more</em> </a></div>\n",
      "</div>, <div class=\"sammy\" style=\"position: relative;\">\n",
      "<div class=\"sammyRank\">36</div>\n",
      "<div class=\"sammyListing\"><a href=\"http://www.chicagomag.com/Chicago-Magazine/November-2012/Best-Sandwiches-in-Chicago-First-Slice-Pie-Cafe-Duck-Confit-and-Mozzarella/\"><b>Duck Confit and Mozzarella</b><br/>\r\n",
      "First Slice Pie Café<br/>\n",
      "<em>Read more</em> </a></div>\n",
      "</div>, <div class=\"sammy\" style=\"position: relative;\">\n",
      "<div class=\"sammyRank\">37</div>\n",
      "<div class=\"sammyListing\"><a href=\"http://www.chicagomag.com/Chicago-Magazine/November-2012/Best-Sandwiches-in-Chicago-Troquet-Croque-Monsieur/\"><b>Croque Monsieur</b><br/>\r\n",
      "Troquet<br/>\n",
      "<em>Read more</em> </a></div>\n",
      "</div>, <div class=\"sammy\" style=\"position: relative;\">\n",
      "<div class=\"sammyRank\">38</div>\n",
      "<div class=\"sammyListing\"><a href=\"http://www.chicagomag.com/Chicago-Magazine/November-2012/Best-Sandwiches-in-Chicago-Grahamwich-Green-Garbanzo/\"><b>Green Garbanzo</b><br/>\r\n",
      "Grahamwich<br/>\n",
      "<em>Read more</em> </a></div>\n",
      "</div>, <div class=\"sammy\" style=\"position: relative;\">\n",
      "<div class=\"sammyRank\">39</div>\n",
      "<div class=\"sammyListing\"><a href=\"http://www.chicagomag.com/Chicago-Magazine/November-2012/Best-Sandwiches-in-Chicago-Saigon-Sisters-The-Hen-House/\"><b>The Hen House</b><br/>\r\n",
      "Saigon Sisters<br/>\n",
      "<em>Read more</em> </a></div>\n",
      "</div>, <div class=\"sammy\" style=\"position: relative;\">\n",
      "<div class=\"sammyRank\">40</div>\n",
      "<div class=\"sammyListing\"><a href=\"http://www.chicagomag.com/Chicago-Magazine/November-2012/Best-Sandwiches-in-Chicago-Rosalias-Deli-Tuscan-Chicken/\"><b>Tuscan Chicken</b><br/>\r\n",
      "Rosalia’s Deli<br/>\n",
      "<em>Read more</em> </a></div>\n",
      "</div>, <div class=\"sammy\" style=\"position: relative;\">\n",
      "<div class=\"sammyRank\">41</div>\n",
      "<div class=\"sammyListing\"><a href=\"http://www.chicagomag.com/Chicago-Magazine/November-2012/Best-Sandwiches-in-Chicago-Z-and-H-MarketCafe-The-Marty/\"><b>The Marty </b><br/>\r\n",
      "Z&amp;H MarketCafe<br/>\n",
      "<em>Read more</em> </a></div>\n",
      "</div>, <div class=\"sammy\" style=\"position: relative;\">\n",
      "<div class=\"sammyRank\">42</div>\n",
      "<div class=\"sammyListing\"><a href=\"http://www.chicagomag.com/Chicago-Magazine/November-2012/Best-Sandwiches-in-Chicago-Market-House-on-the-Square-Whitefish/\"><b>Whitefish</b><br/>\r\n",
      "Market House on the Square<br/>\n",
      "<em>Read more</em> </a></div>\n",
      "</div>, <div class=\"sammy\" style=\"position: relative;\">\n",
      "<div class=\"sammyRank\">43</div>\n",
      "<div class=\"sammyListing\"><a href=\"http://www.chicagomag.com/Chicago-Magazine/November-2012/Best-Sandwiches-in-Chicago-Elaines-Coffee-Call-Oat-Bread-Pecan-Butter-and-Fruit-Jam/\"><b>Oat Bread, Pecan Butter, and Fruit Jam</b><br/>\r\n",
      "Elaine’s Coffee Call<br/>\n",
      "<em>Read more</em> </a></div>\n",
      "</div>, <div class=\"sammy\" style=\"position: relative;\">\n",
      "<div class=\"sammyRank\">44</div>\n",
      "<div class=\"sammyListing\"><a href=\"http://www.chicagomag.com/Chicago-Magazine/November-2012/Best-Sandwiches-in-Chicago-Marion-Street-Cheese-Market-Cauliflower-Melt/\"><b>Cauliflower Melt</b><br/>\r\n",
      "Marion Street Cheese Market<br/>\n",
      "<em>Read more</em> </a></div>\n",
      "</div>, <div class=\"sammy\" style=\"position: relative;\">\n",
      "<div class=\"sammyRank\">45</div>\n",
      "<div class=\"sammyListing\"><a href=\"http://www.chicagomag.com/Chicago-Magazine/November-2012/Best-Sandwiches-in-Chicago-Cafecito-Cubano/\"><b>Cubana</b><br/>\r\n",
      "Cafecito<br/>\n",
      "<em>Read more</em> </a></div>\n",
      "</div>, <div class=\"sammy\" style=\"position: relative;\">\n",
      "<div class=\"sammyRank\">46</div>\n",
      "<div class=\"sammyListing\"><a href=\"http://www.chicagomag.com/Chicago-Magazine/November-2012/Best-Sandwiches-in-Chicago-Chickpea-Kufta/\"><b>Kufta</b><br/>\r\n",
      "Chickpea<br/>\n",
      "<em>Read more</em> </a></div>\n",
      "</div>, <div class=\"sammy\" style=\"position: relative;\">\n",
      "<div class=\"sammyRank\">47</div>\n",
      "<div class=\"sammyListing\"><a href=\"http://www.chicagomag.com/Chicago-Magazine/November-2012/Best-Sandwiches-in-Chicago-The-Goddess-and-Grocer-Debbies-Egg-Salad/\"><b>Debbie’s Egg Salad</b><br/>\r\n",
      "The Goddess and Grocer<br/>\n",
      "<em>Read more</em> </a></div>\n",
      "</div>, <div class=\"sammy\" style=\"position: relative;\">\n",
      "<div class=\"sammyRank\">48</div>\n",
      "<div class=\"sammyListing\"><a href=\"http://www.chicagomag.com/Chicago-Magazine/November-2012/Best-Sandwiches-in-Chicago-Zenwich-Beef-Curry/\"><b>Beef Curry</b><br/>\r\n",
      "Zenwich<br/>\n",
      "<em>Read more</em> </a></div>\n",
      "</div>, <div class=\"sammy\" style=\"position: relative;\">\n",
      "<div class=\"sammyRank\">49</div>\n",
      "<div class=\"sammyListing\"><a href=\"http://www.chicagomag.com/Chicago-Magazine/November-2012/Best-Sandwiches-in-Chicago-Toni-Patisserie-Le-Vegetarien/\"><b>Le Végétarien</b><br/>\r\n",
      "Toni Patisserie<br/>\n",
      "<em>Read more</em> </a></div>\n",
      "</div>, <div class=\"sammy\" style=\"position: relative; border-bottom: 0\">\n",
      "<div class=\"sammyRank\">50</div>\n",
      "<div class=\"sammyListing\"><a href=\"http://www.chicagomag.com/Chicago-Magazine/November-2012/Best-Sandwiches-in-Chicago-Phoebes-Bakery-The-Gatsby/\"><b>The Gatsby</b><br/>\r\n",
      "Phoebe’s Bakery<br/>\n",
      "<em>Read more</em> </a></div>\n",
      "</div>]\n"
     ]
    }
   ],
   "source": [
    "print(soup.find_all('div','sammy'))\n"
   ]
  },
  {
   "cell_type": "code",
   "execution_count": 6,
   "metadata": {},
   "outputs": [
    {
     "data": {
      "text/plain": [
       "50"
      ]
     },
     "execution_count": 6,
     "metadata": {},
     "output_type": "execute_result"
    }
   ],
   "source": [
    "len(soup.find_all('div','sammy'))"
   ]
  },
  {
   "cell_type": "code",
   "execution_count": 9,
   "metadata": {},
   "outputs": [
    {
     "data": {
      "text/plain": [
       "<div class=\"sammy\" style=\"position: relative;\">\n",
       "<div class=\"sammyRank\">1</div>\n",
       "<div class=\"sammyListing\"><a href=\"/Chicago-Magazine/November-2012/Best-Sandwiches-in-Chicago-Old-Oak-Tap-BLT/\"><b>BLT</b><br>\n",
       "Old Oak Tap<br>\n",
       "<em>Read more</em> </br></br></a></div>\n",
       "</div>"
      ]
     },
     "execution_count": 9,
     "metadata": {},
     "output_type": "execute_result"
    }
   ],
   "source": [
    "soup.find_all('div','sammy')[0]"
   ]
  },
  {
   "cell_type": "markdown",
   "metadata": {},
   "source": [
    "# 3-4 접근한 웹 페이지에서 원하는 데이터 추출하고 정리"
   ]
  },
  {
   "cell_type": "code",
   "execution_count": 8,
   "metadata": {},
   "outputs": [
    {
     "data": {
      "text/plain": [
       "bs4.element.Tag"
      ]
     },
     "execution_count": 8,
     "metadata": {},
     "output_type": "execute_result"
    }
   ],
   "source": [
    "tmp_one = soup.find_all('div','sammy')[0]\n",
    "type(tmp_one)"
   ]
  },
  {
   "cell_type": "code",
   "execution_count": 10,
   "metadata": {},
   "outputs": [
    {
     "data": {
      "text/plain": [
       "<div class=\"sammyRank\">1</div>"
      ]
     },
     "execution_count": 10,
     "metadata": {},
     "output_type": "execute_result"
    }
   ],
   "source": [
    "tmp_one.find(class_='sammyRank')"
   ]
  },
  {
   "cell_type": "code",
   "execution_count": 11,
   "metadata": {},
   "outputs": [
    {
     "data": {
      "text/plain": [
       "'1'"
      ]
     },
     "execution_count": 11,
     "metadata": {},
     "output_type": "execute_result"
    }
   ],
   "source": [
    "tmp_one.find(class_='sammyRank').get_text()"
   ]
  },
  {
   "cell_type": "code",
   "execution_count": 12,
   "metadata": {},
   "outputs": [
    {
     "data": {
      "text/plain": [
       "'/Chicago-Magazine/November-2012/Best-Sandwiches-in-Chicago-Old-Oak-Tap-BLT/'"
      ]
     },
     "execution_count": 12,
     "metadata": {},
     "output_type": "execute_result"
    }
   ],
   "source": [
    "tmp_one.find('a')['href']"
   ]
  },
  {
   "cell_type": "code",
   "execution_count": 14,
   "metadata": {},
   "outputs": [
    {
     "name": "stdout",
     "output_type": "stream",
     "text": [
      "BLT\n",
      "Old Oak Tap\n"
     ]
    }
   ],
   "source": [
    "import re\n",
    "\n",
    "tmp_string = tmp_one.find(class_='sammyListing').get_text()\n",
    "\n",
    "re.split(('\\n|\\r\\n'), tmp_string)\n",
    "\n",
    "print(re.split(('\\n|\\r\\n'),tmp_string)[0])\n",
    "print(re.split(('\\n|\\r\\n'),tmp_string)[1])\n"
   ]
  },
  {
   "cell_type": "code",
   "execution_count": 15,
   "metadata": {},
   "outputs": [],
   "source": [
    "rank = []\n",
    "main_menu = []\n",
    "cafe_name = []\n",
    "url_add = []\n",
    "\n",
    "list_soup = soup.find_all('div','sammy')"
   ]
  },
  {
   "cell_type": "code",
   "execution_count": 17,
   "metadata": {},
   "outputs": [
    {
     "ename": "NameError",
     "evalue": "name 'urljoin' is not defined",
     "output_type": "error",
     "traceback": [
      "\u001b[1;31m---------------------------------------------------------------------------\u001b[0m",
      "\u001b[1;31mNameError\u001b[0m                                 Traceback (most recent call last)",
      "\u001b[1;32m<ipython-input-17-83cbb4ce8b4f>\u001b[0m in \u001b[0;36m<module>\u001b[1;34m\u001b[0m\n\u001b[0;32m      7\u001b[0m     \u001b[0mcafe_name\u001b[0m\u001b[1;33m.\u001b[0m\u001b[0mappend\u001b[0m\u001b[1;33m(\u001b[0m\u001b[0mre\u001b[0m\u001b[1;33m.\u001b[0m\u001b[0msplit\u001b[0m\u001b[1;33m(\u001b[0m\u001b[1;33m(\u001b[0m\u001b[1;34m'\\n|\\r\\n'\u001b[0m\u001b[1;33m)\u001b[0m\u001b[1;33m,\u001b[0m \u001b[0mtmp_string\u001b[0m\u001b[1;33m)\u001b[0m\u001b[1;33m[\u001b[0m\u001b[1;36m1\u001b[0m\u001b[1;33m]\u001b[0m\u001b[1;33m)\u001b[0m\u001b[1;33m\u001b[0m\u001b[1;33m\u001b[0m\u001b[0m\n\u001b[0;32m      8\u001b[0m \u001b[1;33m\u001b[0m\u001b[0m\n\u001b[1;32m----> 9\u001b[1;33m     \u001b[0murl_add\u001b[0m\u001b[1;33m.\u001b[0m\u001b[0mappend\u001b[0m\u001b[1;33m(\u001b[0m\u001b[0murljoin\u001b[0m\u001b[1;33m(\u001b[0m\u001b[0murl_base\u001b[0m\u001b[1;33m,\u001b[0m \u001b[0mitem\u001b[0m\u001b[1;33m.\u001b[0m\u001b[0mfind\u001b[0m\u001b[1;33m(\u001b[0m\u001b[1;34m'a'\u001b[0m\u001b[1;33m)\u001b[0m\u001b[1;33m[\u001b[0m\u001b[1;34m'href'\u001b[0m\u001b[1;33m]\u001b[0m\u001b[1;33m)\u001b[0m\u001b[1;33m)\u001b[0m\u001b[1;33m\u001b[0m\u001b[1;33m\u001b[0m\u001b[0m\n\u001b[0m",
      "\u001b[1;31mNameError\u001b[0m: name 'urljoin' is not defined"
     ]
    }
   ],
   "source": [
    "for item in list_soup:\n",
    "    rank.append(item.find(class_='sammyRank').get_text())\n",
    "    \n",
    "    tmp_string = item.find(class_='sammyListing').get_text()\n",
    "    \n",
    "    main_menu.append(re.split(('\\n|\\r\\n'), tmp_string)[0])\n",
    "    cafe_name.append(re.split(('\\n|\\r\\n'), tmp_string)[1])\n",
    "    \n",
    "    url_add.append(urljoin(url_base, item.find('a')['href']))"
   ]
  },
  {
   "cell_type": "code",
   "execution_count": null,
   "metadata": {},
   "outputs": [],
   "source": []
  },
  {
   "cell_type": "code",
   "execution_count": null,
   "metadata": {},
   "outputs": [],
   "source": []
  },
  {
   "cell_type": "code",
   "execution_count": null,
   "metadata": {},
   "outputs": [],
   "source": []
  },
  {
   "cell_type": "code",
   "execution_count": null,
   "metadata": {},
   "outputs": [],
   "source": []
  },
  {
   "cell_type": "code",
   "execution_count": null,
   "metadata": {},
   "outputs": [],
   "source": []
  }
 ],
 "metadata": {
  "kernelspec": {
   "display_name": "Python 3",
   "language": "python",
   "name": "python3"
  },
  "language_info": {
   "codemirror_mode": {
    "name": "ipython",
    "version": 3
   },
   "file_extension": ".py",
   "mimetype": "text/x-python",
   "name": "python",
   "nbconvert_exporter": "python",
   "pygments_lexer": "ipython3",
   "version": "3.7.3"
  }
 },
 "nbformat": 4,
 "nbformat_minor": 2
}
